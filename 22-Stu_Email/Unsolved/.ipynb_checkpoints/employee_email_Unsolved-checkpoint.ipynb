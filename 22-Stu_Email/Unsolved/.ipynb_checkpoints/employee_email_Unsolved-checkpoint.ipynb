{
 "cells": [
  {
   "cell_type": "code",
   "execution_count": 12,
   "metadata": {},
   "outputs": [
    {
     "name": "stdout",
     "output_type": "stream",
     "text": [
      "Tina\n",
      "Fleming\n",
      "Erica\n",
      "Shah\n",
      "Paula\n",
      "Ortiz\n",
      "James\n",
      "Hendricks\n",
      "Lauren\n",
      "King\n",
      "David\n",
      "Cowan\n",
      "Andrew\n",
      "Burton\n",
      "Julian\n",
      "Baker\n",
      "Scott\n",
      "Castro\n",
      "Billy\n",
      "Rodriguez\n",
      "Darrell\n",
      "Leblanc\n",
      "David\n",
      "Hammond\n"
     ]
    }
   ],
   "source": [
    "from pathlib import Path\n",
    "import csv\n",
    "from collections import OrderedDict \n",
    "\n",
    "# Constants\n",
    "emailExtension = \"@gmail.com\"\n",
    "\n",
    "# Initializations\n",
    "data = OrderedDict()\n",
    "\n",
    "# Read in data to dict\n",
    "csvpath = Path('../Resources/employees.csv')\n",
    "with open(csvpath, 'r') as csvfile:\n",
    "\n",
    "    csvreader = csv.DictReader(csvfile, delimiter=',')\n",
    "    \n",
    "    for row in csvreader:\n",
    "        first_name = row[\"first_name\"]\n",
    "        last_name = row[\"last_name\"]\n",
    "        ssn = row[\"ssn\"]\n",
    "        data[ssn] = [first_name, last_name]\n",
    "#        print(row[\"first_name\"])\n",
    "#        print(row[\"last_name\"])\n",
    "    #ordered dict\n",
    "    #print(next(csvreader))\n",
    "#    data[]\n",
    "    \n",
    "    \n",
    "#    email = first_name + \".\" + last_name + emailExtension\n",
    "#    data[] = \n",
    "\n",
    "#    for item in csvreader:\n",
    "#        .\n",
    "#    import csv\n",
    "#>>> with open('names.csv', newline='') as csvfile:\n",
    "##...     reader = csv.DictReader(csvfile)\n",
    "#...     for row in reader:\n",
    "#...         print(row['first_name'], row['last_name'])\n",
    "\n",
    "with open('names.csv', 'w', newline='') as csvfile:\n",
    "    fieldnames = ['first_name', 'last_name']\n",
    "    writer = csv.DictWriter(csvfile, fieldnames=fieldnames)\n",
    "\n",
    "    writer.writeheader()\n",
    "    writer.writerow({'first_name': 'Baked', 'last_name': 'Beans'})\n",
    "    writer.writerow({'first_name': 'Lovely', 'last_name': 'Spam'})\n",
    "    writer.writerow({'first_name': 'Wonderful', 'last_name': 'Spam'})\n"
   ]
  },
  {
   "cell_type": "code",
   "execution_count": null,
   "metadata": {},
   "outputs": [],
   "source": []
  }
 ],
 "metadata": {
  "kernelspec": {
   "display_name": "Python 3",
   "language": "python",
   "name": "python3"
  },
  "language_info": {
   "codemirror_mode": {
    "name": "ipython",
    "version": 3
   },
   "file_extension": ".py",
   "mimetype": "text/x-python",
   "name": "python",
   "nbconvert_exporter": "python",
   "pygments_lexer": "ipython3",
   "version": "3.7.7"
  }
 },
 "nbformat": 4,
 "nbformat_minor": 4
}
