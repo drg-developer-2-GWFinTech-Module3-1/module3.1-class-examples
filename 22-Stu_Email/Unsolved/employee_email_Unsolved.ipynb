{
 "cells": [
  {
   "cell_type": "code",
   "execution_count": 26,
   "metadata": {},
   "outputs": [],
   "source": [
    "from pathlib import Path\n",
    "import csv\n",
    "from collections import OrderedDict \n",
    "\n",
    "def buildEmail(first_name, last_name, emailExtension):\n",
    "    return first_name + \".\" + last_name + emailExtension\n",
    "\n",
    "# Constants\n",
    "emailExtension = \"@gmail.com\"\n",
    "\n",
    "# Initializations\n",
    "data1 = OrderedDict()\n",
    "data2 = OrderedDict()\n",
    "\n",
    "# Read in data to dict\n",
    "csvpath = Path('../Resources/employees.csv')\n",
    "with open(csvpath, 'r') as csvfile:\n",
    "\n",
    "    csvreader = csv.DictReader(csvfile, delimiter=',')\n",
    "    \n",
    "    for row in csvreader:\n",
    "        first_name = row[\"first_name\"]\n",
    "        last_name = row[\"last_name\"]\n",
    "        ssn = row[\"ssn\"]\n",
    "        data1[ssn] = [first_name, last_name]\n",
    "\n",
    "    for ssn, value in data1.items():\n",
    "        first_name = value[0]\n",
    "        last_name = value[1]\n",
    "        email = buildEmail(first_name, last_name, emailExtension)\n",
    "        data2[ssn] = [first_name, last_name, email]\n",
    "\n",
    "# Append the new dictionary to a list called `new_employee_data`.\n",
    "new_employee_data = []\n",
    "new_employee_data.append(data2)\n",
    "\n",
    "with open('new_employee_data.csv', 'w', newline='') as csvfile:\n",
    "    fieldnames = ['first_name', 'last_name', 'ssn', 'email']\n",
    "    writer = csv.DictWriter(csvfile, fieldnames=fieldnames)\n",
    "    writer.writeheader()\n",
    "    for employeeDataSet in new_employee_data:\n",
    "        for ssn, data in employeeDataSet.items():\n",
    "            first_name = data[0]\n",
    "            last_name = data[0]\n",
    "            email = data[0]\n",
    "            writer.writerow({'first_name': first_name, 'last_name': last_name, 'ssn': ssn, 'email': email})\n"
   ]
  },
  {
   "cell_type": "code",
   "execution_count": null,
   "metadata": {},
   "outputs": [],
   "source": []
  }
 ],
 "metadata": {
  "kernelspec": {
   "display_name": "Python 3",
   "language": "python",
   "name": "python3"
  },
  "language_info": {
   "codemirror_mode": {
    "name": "ipython",
    "version": 3
   },
   "file_extension": ".py",
   "mimetype": "text/x-python",
   "name": "python",
   "nbconvert_exporter": "python",
   "pygments_lexer": "ipython3",
   "version": "3.7.7"
  }
 },
 "nbformat": 4,
 "nbformat_minor": 4
}
