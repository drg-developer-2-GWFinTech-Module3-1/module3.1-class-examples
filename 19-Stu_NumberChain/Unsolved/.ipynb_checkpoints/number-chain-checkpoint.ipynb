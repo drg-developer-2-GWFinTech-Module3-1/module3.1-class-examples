{
 "cells": [
  {
   "cell_type": "code",
   "execution_count": 7,
   "metadata": {},
   "outputs": [
    {
     "name": "stdout",
     "output_type": "stream",
     "text": [
      "How many number?\n"
     ]
    },
    {
     "name": "stdin",
     "output_type": "stream",
     "text": [
      " 3\n"
     ]
    },
    {
     "name": "stdout",
     "output_type": "stream",
     "text": [
      "0\n",
      "1\n",
      "2\n",
      "Would you like to coninue?\n"
     ]
    },
    {
     "name": "stdin",
     "output_type": "stream",
     "text": [
      " y\n"
     ]
    },
    {
     "name": "stdout",
     "output_type": "stream",
     "text": [
      "How many number?\n"
     ]
    },
    {
     "name": "stdin",
     "output_type": "stream",
     "text": [
      " 10\n"
     ]
    },
    {
     "name": "stdout",
     "output_type": "stream",
     "text": [
      "0\n",
      "1\n",
      "2\n",
      "3\n",
      "4\n",
      "5\n",
      "6\n",
      "7\n",
      "8\n",
      "9\n",
      "Would you like to coninue?\n"
     ]
    },
    {
     "name": "stdin",
     "output_type": "stream",
     "text": [
      " n\n"
     ]
    }
   ],
   "source": [
    "do_again = True\n",
    "while do_again:\n",
    "\n",
    "    print('How many number?')\n",
    "    how_many_numbers = int(input())\n",
    "\n",
    "    i = 0\n",
    "    while i < how_many_numbers:\n",
    "        print(i)\n",
    "        i = i + 1\n",
    "\n",
    "    print('Would you like to coninue?')\n",
    "    do_again_string = input()\n",
    "    if do_again_string == \"y\":\n",
    "        do_again = True\n",
    "    else:\n",
    "        do_again = False\n",
    "\n",
    "print(\"Exiting...\")\n"
   ]
  },
  {
   "cell_type": "code",
   "execution_count": null,
   "metadata": {},
   "outputs": [],
   "source": []
  },
  {
   "cell_type": "code",
   "execution_count": null,
   "metadata": {},
   "outputs": [],
   "source": [
    "print(\"debug 1\")\n",
    "do_again = True\n",
    "while do_again:\n",
    "    print(\"debug 2\")\n",
    "\n",
    "    print('How many number?')\n",
    "    how_many_numbers = int(input())\n",
    "\n",
    "    i = 0\n",
    "    while i < how_many_numbers:\n",
    "        print(i)\n",
    "        print(\"debug 3\")\n",
    "        i = i + 1\n",
    "\n",
    "    print('Would you like to coninue?')\n",
    "    do_again_string = input()\n",
    "    if do_again_string == \"y\":\n",
    "        print(\"debug 4\")\n",
    "        do_again = True\n",
    "    else:\n",
    "        print(\"debug 5\")\n",
    "        do_again = False\n",
    "\n",
    "print(\"Exiting...\")\n"
   ]
  }
 ],
 "metadata": {
  "kernelspec": {
   "display_name": "Python 3",
   "language": "python",
   "name": "python3"
  },
  "language_info": {
   "codemirror_mode": {
    "name": "ipython",
    "version": 3
   },
   "file_extension": ".py",
   "mimetype": "text/x-python",
   "name": "python",
   "nbconvert_exporter": "python",
   "pygments_lexer": "ipython3",
   "version": "3.7.7"
  }
 },
 "nbformat": 4,
 "nbformat_minor": 4
}
