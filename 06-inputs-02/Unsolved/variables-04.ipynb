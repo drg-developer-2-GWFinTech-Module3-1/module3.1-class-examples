{
 "cells": [
  {
   "cell_type": "code",
   "execution_count": 15,
   "metadata": {},
   "outputs": [
    {
     "name": "stdout",
     "output_type": "stream",
     "text": [
      "HelloWelcome to the Boba Shop! What is your name?\n",
      "non-sweet\n",
      "Your order of What kind of boba drink would you like? boba with a sweet level of How sweet do you want your drink: 0, 50, 100, or 200?\n"
     ]
    }
   ],
   "source": [
    "# Declare a variable of `name` with an input and a string of \"Welcome to the Boba Shop! What is your name?\".\n",
    "name = \"Welcome to the Boba Shop! What is your name?\"\n",
    "\n",
    "# Check if `name` is not an empty string or equal to `None`.\n",
    "if len(name) > 0 or name == \"None\":\n",
    "\n",
    "    # If so, write a print with a string of \"Hello\" concatenated with the variable `name`.\n",
    "    print(\"Hello\" + name)\n",
    "\n",
    "    # Then, declare a variable of `beverage` with an input and a string of \"What kind of boba drink would you like?\".\n",
    "    beverage = \"What kind of boba drink would you like?\"\n",
    "\n",
    "    # Then, Declare a variable of `sweetness` with an input and a string of \"How sweet do you want your drink: 0, 50, 100, or 200?\".\n",
    "    sweetness = \"How sweet do you want your drink: 0, 50, 100, or 200?\"\n",
    "\n",
    "    # If `sweetness` equals 50 print \"half sweetened\".\n",
    "    if sweetness == 50:\n",
    "        print(\"half sweetened\")\n",
    "\n",
    "    # Else if `sweetness` 100 print \"normal sweet\".\n",
    "    elif sweetness == 100:\n",
    "        print(\"normal sweet\")\n",
    "\n",
    "    # Else if `sweetness` 200 print \"super sweet\".\n",
    "    elif sweetness == 200:\n",
    "        print(\"super sweet\")\n",
    "\n",
    "    # Else print with a string of \"non-sweet\".\n",
    "    else:\n",
    "        print(\"non-sweet\")\n",
    "\n",
    "    # Then print the string of \"Your order of \" concatenated with the variable `beverage`, concatenated with \" boba with a sweet level of \", concatenated with the variable `sweetness`\n",
    "    print(\"Your order of \" + beverage + \" boba with a sweet level of \" + sweetness)\n",
    "    \n",
    "# Else, print the string of \"You didn't give us your name! Goodbye\"\n",
    "else:\n",
    "    print(\"You didn't give us your name! Goodbye\")\n"
   ]
  },
  {
   "cell_type": "code",
   "execution_count": null,
   "metadata": {},
   "outputs": [],
   "source": []
  }
 ],
 "metadata": {
  "kernelspec": {
   "display_name": "Python 3",
   "language": "python",
   "name": "python3"
  },
  "language_info": {
   "codemirror_mode": {
    "name": "ipython",
    "version": 3
   },
   "file_extension": ".py",
   "mimetype": "text/x-python",
   "name": "python",
   "nbconvert_exporter": "python",
   "pygments_lexer": "ipython3",
   "version": "3.7.7"
  }
 },
 "nbformat": 4,
 "nbformat_minor": 4
}
