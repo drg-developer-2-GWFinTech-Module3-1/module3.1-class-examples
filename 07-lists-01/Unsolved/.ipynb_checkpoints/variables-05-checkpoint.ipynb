{
 "cells": [
  {
   "cell_type": "code",
   "execution_count": 4,
   "metadata": {},
   "outputs": [
    {
     "name": "stdout",
     "output_type": "stream",
     "text": [
      "2\n",
      "4\n",
      "9\n",
      "15\n"
     ]
    }
   ],
   "source": [
    "# Create a list, `list_1`,  with `0`, `1`, `2`, `3` as values.\n",
    "list_1 = [ 0, 1, 2, 3 ]\n",
    "\n",
    "# Create a list, list_2 with 4, 5, 6, 7 as values.\n",
    "list_2 = [ 4, 5, 6, 7 ]\n",
    "\n",
    "# Create a list, list_3 with 8, 9, 10, 11 as values.\n",
    "list_3 = [ 8, 9, 10, 11 ]\n",
    "\n",
    "# Create a list, list_4 with 12, 13, 14, 15 as values.\n",
    "list_4 = [ 12, 13, 14, 15 ]\n",
    "\n",
    "# Print the 3rd index of list_1.\n",
    "print(list_1[2])\n",
    "\n",
    "# Print the 1st index of list_2.\n",
    "print(list_2[0])\n",
    "\n",
    "\n",
    "# Print the 2nd index of list_3.\n",
    "print(list_3[1])\n",
    "\n",
    "\n",
    "# Print the 4th index of list_4.\n",
    "print(list_4[3])\n",
    "\n"
   ]
  },
  {
   "cell_type": "code",
   "execution_count": null,
   "metadata": {},
   "outputs": [],
   "source": []
  }
 ],
 "metadata": {
  "kernelspec": {
   "display_name": "Python 3",
   "language": "python",
   "name": "python3"
  },
  "language_info": {
   "codemirror_mode": {
    "name": "ipython",
    "version": 3
   },
   "file_extension": ".py",
   "mimetype": "text/x-python",
   "name": "python",
   "nbconvert_exporter": "python",
   "pygments_lexer": "ipython3",
   "version": "3.7.7"
  }
 },
 "nbformat": 4,
 "nbformat_minor": 4
}
